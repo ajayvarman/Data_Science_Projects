{
 "cells": [
  {
   "cell_type": "code",
   "execution_count": 1,
   "metadata": {},
   "outputs": [],
   "source": [
    "import numpy as np\n",
    "import matplotlib.pyplot as plt\n",
    "import pandas as pd"
   ]
  },
  {
   "cell_type": "code",
   "execution_count": 2,
   "metadata": {},
   "outputs": [],
   "source": [
    "dataset = pd.read_csv('Churn_Modelling.csv')\n",
    "X = dataset.iloc[:, 3:13].values\n",
    "y = dataset.iloc[:, 13].values\n"
   ]
  },
  {
   "cell_type": "code",
   "execution_count": 3,
   "metadata": {},
   "outputs": [],
   "source": [
    "# Encoding categorical data\n",
    "from sklearn.preprocessing import LabelEncoder, OneHotEncoder\n",
    "labelencoder_X_1 = LabelEncoder()\n",
    "X[:, 1] = labelencoder_X_1.fit_transform(X[:, 1])\n",
    "labelencoder_X_2 = LabelEncoder()\n",
    "X[:, 2] = labelencoder_X_2.fit_transform(X[:, 2])\n",
    "onehotencoder = OneHotEncoder(categorical_features = [1])\n",
    "X = onehotencoder.fit_transform(X).toarray()\n",
    "X = X[:, 1:]\n"
   ]
  },
  {
   "cell_type": "code",
   "execution_count": 4,
   "metadata": {},
   "outputs": [],
   "source": [
    "# Splitting the dataset into the Training set and Test set\n",
    "from sklearn.model_selection import train_test_split\n",
    "X_train, X_test, y_train, y_test = train_test_split(X, y, test_size = 0.2, random_state = 0)"
   ]
  },
  {
   "cell_type": "code",
   "execution_count": 5,
   "metadata": {},
   "outputs": [],
   "source": [
    "# Feature Scaling\n",
    "from sklearn.preprocessing import StandardScaler\n",
    "sc = StandardScaler()\n",
    "X_train = sc.fit_transform(X_train)\n",
    "X_test = sc.transform(X_test)"
   ]
  },
  {
   "cell_type": "code",
   "execution_count": 6,
   "metadata": {},
   "outputs": [
    {
     "name": "stderr",
     "output_type": "stream",
     "text": [
      "Using TensorFlow backend.\n"
     ]
    }
   ],
   "source": [
    "import keras\n",
    "from keras.models import Sequential\n",
    "from keras.layers import Dense"
   ]
  },
  {
   "cell_type": "code",
   "execution_count": 7,
   "metadata": {},
   "outputs": [],
   "source": [
    "# Initialising the ANN\n",
    "classifier = Sequential()"
   ]
  },
  {
   "cell_type": "code",
   "execution_count": 8,
   "metadata": {},
   "outputs": [],
   "source": [
    "# Adding the input layer and the first hidden layer\n",
    "classifier.add(Dense(activation=\"relu\", input_dim=11, units=6, kernel_initializer=\"uniform\"))\n"
   ]
  },
  {
   "cell_type": "code",
   "execution_count": 9,
   "metadata": {},
   "outputs": [],
   "source": [
    "# Adding the second hidden layer\n",
    "classifier.add(Dense(units = 6, kernel_initializer = 'uniform', activation = 'relu'))"
   ]
  },
  {
   "cell_type": "code",
   "execution_count": 10,
   "metadata": {},
   "outputs": [],
   "source": [
    "# Adding the output layer\n",
    "classifier.add(Dense(units = 1, kernel_initializer = 'uniform', activation = 'sigmoid'))\n"
   ]
  },
  {
   "cell_type": "code",
   "execution_count": 11,
   "metadata": {},
   "outputs": [],
   "source": [
    "# Compiling the ANN\n",
    "classifier.compile(optimizer = 'adam', loss = 'binary_crossentropy', metrics = ['accuracy'])"
   ]
  },
  {
   "cell_type": "code",
   "execution_count": 12,
   "metadata": {},
   "outputs": [
    {
     "name": "stdout",
     "output_type": "stream",
     "text": [
      "Epoch 1/100\n",
      "8000/8000 [==============================] - 10s 1ms/step - loss: 0.4829 - acc: 0.7961\n",
      "Epoch 2/100\n",
      "8000/8000 [==============================] - 7s 908us/step - loss: 0.4192 - acc: 0.7960\n",
      "Epoch 3/100\n",
      "8000/8000 [==============================] - 8s 1ms/step - loss: 0.4092 - acc: 0.7990\n",
      "Epoch 4/100\n",
      "8000/8000 [==============================] - 7s 896us/step - loss: 0.3991 - acc: 0.8264\n",
      "Epoch 5/100\n",
      "8000/8000 [==============================] - 9s 1ms/step - loss: 0.3901 - acc: 0.8271\n",
      "Epoch 6/100\n",
      "8000/8000 [==============================] - 9s 1ms/step - loss: 0.3828 - acc: 0.8307\n",
      "Epoch 7/100\n",
      "8000/8000 [==============================] - 9s 1ms/step - loss: 0.3783 - acc: 0.8394\n",
      "Epoch 8/100\n",
      "8000/8000 [==============================] - 10s 1ms/step - loss: 0.3729 - acc: 0.8450\n",
      "Epoch 9/100\n",
      "8000/8000 [==============================] - 12s 1ms/step - loss: 0.3699 - acc: 0.8511\n",
      "Epoch 10/100\n",
      "8000/8000 [==============================] - 14s 2ms/step - loss: 0.3669 - acc: 0.8519\n",
      "Epoch 11/100\n",
      "8000/8000 [==============================] - 14s 2ms/step - loss: 0.3647 - acc: 0.8500\n",
      "Epoch 12/100\n",
      "8000/8000 [==============================] - 18s 2ms/step - loss: 0.3631 - acc: 0.8519\n",
      "Epoch 13/100\n",
      "8000/8000 [==============================] - 11s 1ms/step - loss: 0.3618 - acc: 0.8510\n",
      "Epoch 14/100\n",
      "8000/8000 [==============================] - 13s 2ms/step - loss: 0.3603 - acc: 0.8539\n",
      "Epoch 15/100\n",
      "8000/8000 [==============================] - ETA: 0s - loss: 0.3601 - acc: 0.853 - 10s 1ms/step - loss: 0.3599 - acc: 0.8537\n",
      "Epoch 16/100\n",
      "8000/8000 [==============================] - ETA: 0s - loss: 0.3589 - acc: 0.852 - 8s 1ms/step - loss: 0.3586 - acc: 0.8526\n",
      "Epoch 17/100\n",
      "8000/8000 [==============================] - ETA: 0s - loss: 0.3571 - acc: 0.856 - 10s 1ms/step - loss: 0.3569 - acc: 0.8569\n",
      "Epoch 18/100\n",
      "8000/8000 [==============================] - 13s 2ms/step - loss: 0.3562 - acc: 0.8544: 1s - loss: 0.3606 - acc: 0 - ETA: 1s - loss: 0.3608 - acc: \n",
      "Epoch 19/100\n",
      "8000/8000 [==============================] - 16s 2ms/step - loss: 0.3547 - acc: 0.8564: - ETA: 5s - loss: 0.3503 -  - ETA: 4s - loss: 0.\n",
      "Epoch 20/100\n",
      "8000/8000 [==============================] - 12s 2ms/step - loss: 0.3554 - acc: 0.8564\n",
      "Epoch 21/100\n",
      "8000/8000 [==============================] - 13s 2ms/step - loss: 0.3543 - acc: 0.8582\n",
      "Epoch 22/100\n",
      "8000/8000 [==============================] - 15s 2ms/step - loss: 0.3540 - acc: 0.8550\n",
      "Epoch 23/100\n",
      "8000/8000 [==============================] - 15s 2ms/step - loss: 0.3532 - acc: 0.8560\n",
      "Epoch 24/100\n",
      "8000/8000 [==============================] - 17s 2ms/step - loss: 0.3539 - acc: 0.8551: 6s - loss: 0.3594 - acc: 0.85  - ETA: 4s -\n",
      "Epoch 25/100\n",
      "8000/8000 [==============================] - 18s 2ms/step - loss: 0.3534 - acc: 0.8579: - ETA: 6s - loss: 0.3544 - acc - ETA: 6s - loss: 0.3538 - - ETA: 5s - loss: 0.3559 - acc: 0. - ETA:\n",
      "Epoch 26/100\n",
      "8000/8000 [==============================] - 17s 2ms/step - loss: 0.3530 - acc: 0.8566: 2s - loss:  - ETA: 1s - loss: 0.3521 - acc: 0. - ETA: 1s - lo\n",
      "Epoch 27/100\n",
      "8000/8000 [==============================] - 14s 2ms/step - loss: 0.3521 - acc: 0.8580\n",
      "Epoch 28/100\n",
      "8000/8000 [==============================] - 15s 2ms/step - loss: 0.3517 - acc: 0.8574: 0s - loss: 0.3535 - a\n",
      "Epoch 29/100\n",
      "8000/8000 [==============================] - 15s 2ms/step - loss: 0.3526 - acc: 0.8572: 8s  - ETA: 6s - lo\n",
      "Epoch 30/100\n",
      "8000/8000 [==============================] - 14s 2ms/step - loss: 0.3513 - acc: 0.8540\n",
      "Epoch 31/100\n",
      "8000/8000 [==============================] - 14s 2ms/step - loss: 0.3511 - acc: 0.8591\n",
      "Epoch 32/100\n",
      "8000/8000 [==============================] - 16s 2ms/step - loss: 0.3509 - acc: 0.8551\n",
      "Epoch 33/100\n",
      "8000/8000 [==============================] - 13s 2ms/step - loss: 0.3505 - acc: 0.8599\n",
      "Epoch 34/100\n",
      "8000/8000 [==============================] - 12s 1ms/step - loss: 0.3506 - acc: 0.8562\n",
      "Epoch 35/100\n",
      "8000/8000 [==============================] - 11s 1ms/step - loss: 0.3503 - acc: 0.8584\n",
      "Epoch 36/100\n",
      "8000/8000 [==============================] - 10s 1ms/step - loss: 0.3492 - acc: 0.8604\n",
      "Epoch 37/100\n",
      "8000/8000 [==============================] - 10s 1ms/step - loss: 0.3496 - acc: 0.8587\n",
      "Epoch 38/100\n",
      "8000/8000 [==============================] - 7s 931us/step - loss: 0.3486 - acc: 0.8562 0s - loss: 0.3494 -\n",
      "Epoch 39/100\n",
      "8000/8000 [==============================] - 8s 950us/step - loss: 0.3485 - acc: 0.8585\n",
      "Epoch 40/100\n",
      "8000/8000 [==============================] - 8s 942us/step - loss: 0.3480 - acc: 0.8572\n",
      "Epoch 41/100\n",
      "8000/8000 [==============================] - 8s 941us/step - loss: 0.3485 - acc: 0.8569 0s - loss: 0.3464 - acc: 0\n",
      "Epoch 42/100\n",
      "8000/8000 [==============================] - 8s 955us/step - loss: 0.3472 - acc: 0.8615\n",
      "Epoch 43/100\n",
      "8000/8000 [==============================] - 8s 940us/step - loss: 0.3473 - acc: 0.8592\n",
      "Epoch 44/100\n",
      "8000/8000 [==============================] - 7s 927us/step - loss: 0.3469 - acc: 0.8594\n",
      "Epoch 45/100\n",
      "8000/8000 [==============================] - ETA: 0s - loss: 0.3467 - acc: 0.858 - 8s 950us/step - loss: 0.3466 - acc: 0.8586\n",
      "Epoch 46/100\n",
      "8000/8000 [==============================] - 7s 909us/step - loss: 0.3474 - acc: 0.8594\n",
      "Epoch 47/100\n",
      "8000/8000 [==============================] - 7s 909us/step - loss: 0.3458 - acc: 0.8574 0s - loss: 0.3442\n",
      "Epoch 48/100\n",
      "8000/8000 [==============================] - 7s 926us/step - loss: 0.3470 - acc: 0.8579\n",
      "Epoch 49/100\n",
      "8000/8000 [==============================] - 7s 927us/step - loss: 0.3467 - acc: 0.8604 0s - loss: 0.3466 - ac\n",
      "Epoch 50/100\n",
      "8000/8000 [==============================] - 10s 1ms/step - loss: 0.3469 - acc: 0.8572\n",
      "Epoch 51/100\n",
      "8000/8000 [==============================] - 10s 1ms/step - loss: 0.3458 - acc: 0.8610\n",
      "Epoch 52/100\n",
      "8000/8000 [==============================] - 10s 1ms/step - loss: 0.3463 - acc: 0.8577\n",
      "Epoch 53/100\n",
      "8000/8000 [==============================] - 7s 870us/step - loss: 0.3459 - acc: 0.8599\n",
      "Epoch 54/100\n",
      "8000/8000 [==============================] - 7s 824us/step - loss: 0.3460 - acc: 0.8576\n",
      "Epoch 55/100\n",
      "8000/8000 [==============================] - 7s 835us/step - loss: 0.3462 - acc: 0.8606\n",
      "Epoch 56/100\n",
      "8000/8000 [==============================] - 7s 849us/step - loss: 0.3467 - acc: 0.8582 0s - loss: 0.3484 - ac\n",
      "Epoch 57/100\n",
      "8000/8000 [==============================] - 7s 832us/step - loss: 0.3467 - acc: 0.8585 0s - loss: 0.3452 - acc: 0\n",
      "Epoch 58/100\n",
      "8000/8000 [==============================] - 7s 827us/step - loss: 0.3458 - acc: 0.8585\n",
      "Epoch 59/100\n",
      "8000/8000 [==============================] - 7s 833us/step - loss: 0.3451 - acc: 0.8602\n",
      "Epoch 60/100\n",
      "8000/8000 [==============================] - 7s 831us/step - loss: 0.3458 - acc: 0.8592\n",
      "Epoch 61/100\n",
      "8000/8000 [==============================] - 7s 847us/step - loss: 0.3458 - acc: 0.8585\n",
      "Epoch 62/100\n",
      "8000/8000 [==============================] - 7s 844us/step - loss: 0.3453 - acc: 0.8585\n",
      "Epoch 63/100\n",
      "8000/8000 [==============================] - 7s 821us/step - loss: 0.3460 - acc: 0.8580\n",
      "Epoch 64/100\n",
      "8000/8000 [==============================] - 7s 825us/step - loss: 0.3452 - acc: 0.8621\n",
      "Epoch 65/100\n",
      "8000/8000 [==============================] - 6s 811us/step - loss: 0.3440 - acc: 0.8590\n",
      "Epoch 66/100\n",
      "8000/8000 [==============================] - ETA: 0s - loss: 0.3438 - acc: 0.860 - 6s 811us/step - loss: 0.3445 - acc: 0.8604\n",
      "Epoch 67/100\n",
      "8000/8000 [==============================] - 7s 853us/step - loss: 0.3446 - acc: 0.8584\n",
      "Epoch 68/100\n",
      "8000/8000 [==============================] - 7s 823us/step - loss: 0.3438 - acc: 0.8600 1s - l\n",
      "Epoch 69/100\n",
      "8000/8000 [==============================] - 7s 818us/step - loss: 0.3450 - acc: 0.8602\n",
      "Epoch 70/100\n",
      "8000/8000 [==============================] - 7s 817us/step - loss: 0.3442 - acc: 0.8596\n",
      "Epoch 71/100\n",
      "8000/8000 [==============================] - 7s 830us/step - loss: 0.3451 - acc: 0.8596\n",
      "Epoch 72/100\n",
      "8000/8000 [==============================] - 7s 844us/step - loss: 0.3435 - acc: 0.8622\n",
      "Epoch 73/100\n",
      "8000/8000 [==============================] - 7s 884us/step - loss: 0.3447 - acc: 0.8587\n",
      "Epoch 74/100\n",
      "8000/8000 [==============================] - 8s 977us/step - loss: 0.3437 - acc: 0.8602 1s -\n",
      "Epoch 75/100\n"
     ]
    },
    {
     "name": "stdout",
     "output_type": "stream",
     "text": [
      "8000/8000 [==============================] - 6s 786us/step - loss: 0.3443 - acc: 0.8591\n",
      "Epoch 76/100\n",
      "8000/8000 [==============================] - 6s 770us/step - loss: 0.3451 - acc: 0.8605\n",
      "Epoch 77/100\n",
      "8000/8000 [==============================] - 6s 760us/step - loss: 0.3442 - acc: 0.8604\n",
      "Epoch 78/100\n",
      "8000/8000 [==============================] - 6s 790us/step - loss: 0.3433 - acc: 0.8599\n",
      "Epoch 79/100\n",
      "8000/8000 [==============================] - 6s 779us/step - loss: 0.3432 - acc: 0.8577\n",
      "Epoch 80/100\n",
      "8000/8000 [==============================] - 7s 815us/step - loss: 0.3440 - acc: 0.8597\n",
      "Epoch 81/100\n",
      "8000/8000 [==============================] - 7s 845us/step - loss: 0.3442 - acc: 0.8602\n",
      "Epoch 82/100\n",
      "8000/8000 [==============================] - 7s 871us/step - loss: 0.3426 - acc: 0.8616\n",
      "Epoch 83/100\n",
      "8000/8000 [==============================] - 6s 801us/step - loss: 0.3441 - acc: 0.8609\n",
      "Epoch 84/100\n",
      "8000/8000 [==============================] - 7s 820us/step - loss: 0.3439 - acc: 0.8585\n",
      "Epoch 85/100\n",
      "8000/8000 [==============================] - 7s 841us/step - loss: 0.3436 - acc: 0.8605\n",
      "Epoch 86/100\n",
      "8000/8000 [==============================] - 7s 865us/step - loss: 0.3434 - acc: 0.8594\n",
      "Epoch 87/100\n",
      "8000/8000 [==============================] - 7s 851us/step - loss: 0.3423 - acc: 0.8565\n",
      "Epoch 88/100\n",
      "8000/8000 [==============================] - 7s 866us/step - loss: 0.3425 - acc: 0.8622\n",
      "Epoch 89/100\n",
      "8000/8000 [==============================] - 7s 887us/step - loss: 0.3434 - acc: 0.8584\n",
      "Epoch 90/100\n",
      "8000/8000 [==============================] - 7s 911us/step - loss: 0.3432 - acc: 0.8612\n",
      "Epoch 91/100\n",
      "8000/8000 [==============================] - 7s 906us/step - loss: 0.3438 - acc: 0.8601\n",
      "Epoch 92/100\n",
      "8000/8000 [==============================] - 8s 939us/step - loss: 0.3428 - acc: 0.8624\n",
      "Epoch 93/100\n",
      "8000/8000 [==============================] - 7s 917us/step - loss: 0.3437 - acc: 0.8609\n",
      "Epoch 94/100\n",
      "8000/8000 [==============================] - 7s 928us/step - loss: 0.3423 - acc: 0.8625\n",
      "Epoch 95/100\n",
      "8000/8000 [==============================] - 7s 903us/step - loss: 0.3427 - acc: 0.8597 0s - loss: 0.3427 - ac\n",
      "Epoch 96/100\n",
      "8000/8000 [==============================] - 8s 950us/step - loss: 0.3424 - acc: 0.8607\n",
      "Epoch 97/100\n",
      "8000/8000 [==============================] - 7s 932us/step - loss: 0.3424 - acc: 0.8584 0s - loss: 0.3419 - ac\n",
      "Epoch 98/100\n",
      "8000/8000 [==============================] - 8s 953us/step - loss: 0.3425 - acc: 0.8626\n",
      "Epoch 99/100\n",
      "8000/8000 [==============================] - 7s 910us/step - loss: 0.3425 - acc: 0.8587\n",
      "Epoch 100/100\n",
      "8000/8000 [==============================] - ETA: 0s - loss: 0.3420 - acc: 0.862 - 7s 913us/step - loss: 0.3420 - acc: 0.8624\n"
     ]
    },
    {
     "data": {
      "text/plain": [
       "<keras.callbacks.History at 0x1c172048f28>"
      ]
     },
     "execution_count": 12,
     "metadata": {},
     "output_type": "execute_result"
    }
   ],
   "source": [
    "# Fitting the ANN to the Training set\n",
    "classifier.fit(X_train, y_train, batch_size = 10, epochs = 100)\n"
   ]
  },
  {
   "cell_type": "code",
   "execution_count": 15,
   "metadata": {},
   "outputs": [
    {
     "data": {
      "text/plain": [
       "array([[False],\n",
       "       [False],\n",
       "       [False],\n",
       "       ...,\n",
       "       [False],\n",
       "       [False],\n",
       "       [False]])"
      ]
     },
     "execution_count": 15,
     "metadata": {},
     "output_type": "execute_result"
    }
   ],
   "source": [
    "# Predicting the Test set results\n",
    "y_pred = classifier.predict(X_test)\n",
    "y_pred = (y_pred > 0.5)\n",
    "y_pred\n"
   ]
  },
  {
   "cell_type": "code",
   "execution_count": 16,
   "metadata": {},
   "outputs": [
    {
     "data": {
      "text/plain": [
       "array([[1469,  126],\n",
       "       [ 172,  233]], dtype=int64)"
      ]
     },
     "execution_count": 16,
     "metadata": {},
     "output_type": "execute_result"
    }
   ],
   "source": [
    "# Making the Confusion Matrix\n",
    "from sklearn.metrics import confusion_matrix\n",
    "cm = confusion_matrix(y_test, y_pred)\n",
    "cm"
   ]
  },
  {
   "cell_type": "code",
   "execution_count": null,
   "metadata": {},
   "outputs": [],
   "source": []
  }
 ],
 "metadata": {
  "kernelspec": {
   "display_name": "Python 3",
   "language": "python",
   "name": "python3"
  },
  "language_info": {
   "codemirror_mode": {
    "name": "ipython",
    "version": 3
   },
   "file_extension": ".py",
   "mimetype": "text/x-python",
   "name": "python",
   "nbconvert_exporter": "python",
   "pygments_lexer": "ipython3",
   "version": "3.6.4"
  }
 },
 "nbformat": 4,
 "nbformat_minor": 2
}
